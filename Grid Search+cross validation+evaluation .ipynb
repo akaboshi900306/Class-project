{
 "cells": [
  {
   "cell_type": "code",
   "execution_count": 4,
   "metadata": {},
   "outputs": [
    {
     "data": {
      "text/html": [
       "<div>\n",
       "<style scoped>\n",
       "    .dataframe tbody tr th:only-of-type {\n",
       "        vertical-align: middle;\n",
       "    }\n",
       "\n",
       "    .dataframe tbody tr th {\n",
       "        vertical-align: top;\n",
       "    }\n",
       "\n",
       "    .dataframe thead th {\n",
       "        text-align: right;\n",
       "    }\n",
       "</style>\n",
       "<table border=\"1\" class=\"dataframe\">\n",
       "  <thead>\n",
       "    <tr style=\"text-align: right;\">\n",
       "      <th></th>\n",
       "      <th>ID</th>\n",
       "      <th>Age</th>\n",
       "      <th>Experience</th>\n",
       "      <th>Income</th>\n",
       "      <th>ZIP Code</th>\n",
       "      <th>Family</th>\n",
       "      <th>CCAvg</th>\n",
       "      <th>Education</th>\n",
       "      <th>Mortgage</th>\n",
       "      <th>Personal Loan</th>\n",
       "      <th>Securities Account</th>\n",
       "      <th>CD Account</th>\n",
       "      <th>Online</th>\n",
       "      <th>CreditCard</th>\n",
       "    </tr>\n",
       "  </thead>\n",
       "  <tbody>\n",
       "    <tr>\n",
       "      <th>0</th>\n",
       "      <td>1</td>\n",
       "      <td>25</td>\n",
       "      <td>1</td>\n",
       "      <td>49</td>\n",
       "      <td>91107</td>\n",
       "      <td>4</td>\n",
       "      <td>1.6</td>\n",
       "      <td>1</td>\n",
       "      <td>0</td>\n",
       "      <td>0</td>\n",
       "      <td>1</td>\n",
       "      <td>0</td>\n",
       "      <td>0</td>\n",
       "      <td>0</td>\n",
       "    </tr>\n",
       "    <tr>\n",
       "      <th>1</th>\n",
       "      <td>2</td>\n",
       "      <td>45</td>\n",
       "      <td>19</td>\n",
       "      <td>34</td>\n",
       "      <td>90089</td>\n",
       "      <td>3</td>\n",
       "      <td>1.5</td>\n",
       "      <td>1</td>\n",
       "      <td>0</td>\n",
       "      <td>0</td>\n",
       "      <td>1</td>\n",
       "      <td>0</td>\n",
       "      <td>0</td>\n",
       "      <td>0</td>\n",
       "    </tr>\n",
       "    <tr>\n",
       "      <th>2</th>\n",
       "      <td>3</td>\n",
       "      <td>39</td>\n",
       "      <td>15</td>\n",
       "      <td>11</td>\n",
       "      <td>94720</td>\n",
       "      <td>1</td>\n",
       "      <td>1.0</td>\n",
       "      <td>1</td>\n",
       "      <td>0</td>\n",
       "      <td>0</td>\n",
       "      <td>0</td>\n",
       "      <td>0</td>\n",
       "      <td>0</td>\n",
       "      <td>0</td>\n",
       "    </tr>\n",
       "    <tr>\n",
       "      <th>3</th>\n",
       "      <td>4</td>\n",
       "      <td>35</td>\n",
       "      <td>9</td>\n",
       "      <td>100</td>\n",
       "      <td>94112</td>\n",
       "      <td>1</td>\n",
       "      <td>2.7</td>\n",
       "      <td>2</td>\n",
       "      <td>0</td>\n",
       "      <td>0</td>\n",
       "      <td>0</td>\n",
       "      <td>0</td>\n",
       "      <td>0</td>\n",
       "      <td>0</td>\n",
       "    </tr>\n",
       "    <tr>\n",
       "      <th>4</th>\n",
       "      <td>5</td>\n",
       "      <td>35</td>\n",
       "      <td>8</td>\n",
       "      <td>45</td>\n",
       "      <td>91330</td>\n",
       "      <td>4</td>\n",
       "      <td>1.0</td>\n",
       "      <td>2</td>\n",
       "      <td>0</td>\n",
       "      <td>0</td>\n",
       "      <td>0</td>\n",
       "      <td>0</td>\n",
       "      <td>0</td>\n",
       "      <td>1</td>\n",
       "    </tr>\n",
       "  </tbody>\n",
       "</table>\n",
       "</div>"
      ],
      "text/plain": [
       "   ID  Age  Experience  Income  ZIP Code  Family  CCAvg  Education  Mortgage  \\\n",
       "0   1   25           1      49     91107       4    1.6          1         0   \n",
       "1   2   45          19      34     90089       3    1.5          1         0   \n",
       "2   3   39          15      11     94720       1    1.0          1         0   \n",
       "3   4   35           9     100     94112       1    2.7          2         0   \n",
       "4   5   35           8      45     91330       4    1.0          2         0   \n",
       "\n",
       "   Personal Loan  Securities Account  CD Account  Online  CreditCard  \n",
       "0              0                   1           0       0           0  \n",
       "1              0                   1           0       0           0  \n",
       "2              0                   0           0       0           0  \n",
       "3              0                   0           0       0           0  \n",
       "4              0                   0           0       0           1  "
      ]
     },
     "execution_count": 4,
     "metadata": {},
     "output_type": "execute_result"
    }
   ],
   "source": [
    "import numpy as np\n",
    "import pandas as pd\n",
    "import matplotlib.pyplot as plt\n",
    "import os\n",
    "bank = pd.read_csv(\"C:/Users/akabo/Downloads/intro to business analysis/Final Project/Bank_Personal_Loan_Modelling.csv\")\n",
    "bank.head()"
   ]
  },
  {
   "cell_type": "code",
   "execution_count": 72,
   "metadata": {},
   "outputs": [
    {
     "data": {
      "text/html": [
       "<div>\n",
       "<style scoped>\n",
       "    .dataframe tbody tr th:only-of-type {\n",
       "        vertical-align: middle;\n",
       "    }\n",
       "\n",
       "    .dataframe tbody tr th {\n",
       "        vertical-align: top;\n",
       "    }\n",
       "\n",
       "    .dataframe thead th {\n",
       "        text-align: right;\n",
       "    }\n",
       "</style>\n",
       "<table border=\"1\" class=\"dataframe\">\n",
       "  <thead>\n",
       "    <tr style=\"text-align: right;\">\n",
       "      <th></th>\n",
       "      <th>ID</th>\n",
       "      <th>Age</th>\n",
       "      <th>Experience</th>\n",
       "      <th>Income</th>\n",
       "      <th>ZIP Code</th>\n",
       "      <th>Family</th>\n",
       "      <th>CCAvg</th>\n",
       "      <th>Education</th>\n",
       "      <th>Mortgage</th>\n",
       "      <th>Personal Loan</th>\n",
       "      <th>...</th>\n",
       "      <th>Online</th>\n",
       "      <th>CreditCard</th>\n",
       "      <th>Experience Median_x</th>\n",
       "      <th>Area</th>\n",
       "      <th>Experience Median_y</th>\n",
       "      <th>Experience Median_x</th>\n",
       "      <th>Experience Median_y</th>\n",
       "      <th>Experience Median_x</th>\n",
       "      <th>Experience Median_y</th>\n",
       "      <th>Experience Median</th>\n",
       "    </tr>\n",
       "  </thead>\n",
       "  <tbody>\n",
       "  </tbody>\n",
       "</table>\n",
       "<p>0 rows × 22 columns</p>\n",
       "</div>"
      ],
      "text/plain": [
       "Empty DataFrame\n",
       "Columns: [ID, Age, Experience, Income, ZIP Code, Family, CCAvg, Education, Mortgage, Personal Loan, Securities Account, CD Account, Online, CreditCard, Experience Median_x, Area, Experience Median_y, Experience Median_x, Experience Median_y, Experience Median_x, Experience Median_y, Experience Median]\n",
       "Index: []\n",
       "\n",
       "[0 rows x 22 columns]"
      ]
     },
     "execution_count": 72,
     "metadata": {},
     "output_type": "execute_result"
    },
    {
     "data": {
      "image/png": "[encoded data removed]",
      "text/plain": [
       "<Figure size 432x288 with 1 Axes>"
      ]
     },
     "metadata": {},
     "output_type": "display_data"
    }
   ],
   "source": [
    "bank.hist(\"Age\")\n",
    "Wrong = bank.loc[(bank.Experience <0)]\n",
    "Wrong.head()"
   ]
  },
  {
   "cell_type": "code",
   "execution_count": 5,
   "metadata": {},
   "outputs": [
    {
     "name": "stdout",
     "output_type": "stream",
     "text": [
      "94720    169\n",
      "94305    127\n",
      "95616    116\n",
      "90095     71\n",
      "93106     57\n",
      "Name: ZIP Code, dtype: int64\n",
      "467\n"
     ]
    }
   ],
   "source": [
    "bank['ZIP Code'] = bank['ZIP Code'].astype(np.str)\n",
    "print(bank['ZIP Code'].value_counts(dropna=False).head())\n",
    "print(len(bank['ZIP Code'].unique()))\n",
    "# ZIP Code\n",
    "bank['ZIP Code'] = bank['ZIP Code'].astype(str)\n",
    "bank['Area'] = bank['ZIP Code'].str.slice(0, 3)\n",
    "bank['Area'] = bank['Area'].astype('category')\n",
    "bank['ZIP Code'] = bank['ZIP Code'].astype('category')"
   ]
  },
  {
   "cell_type": "code",
   "execution_count": 6,
   "metadata": {},
   "outputs": [],
   "source": [
    "bank_Age = bank[bank.Experience >= 0].groupby('Age').Experience.median().to_frame('Experience Median').reindex()\n",
    "\n",
    "bank = pd.merge(bank, bank_Age, on = \"Age\", how = \"left\")\n",
    "\n",
    "# Cleaning\n",
    "bank.loc[bank.Experience < 0,'Experience'] = np.round(bank['Experience Median'])\n",
    "\n",
    "# 23 years old == null\n",
    "bank.loc[bank.Experience.isnull(), 'Experience'] = 0"
   ]
  },
  {
   "cell_type": "code",
   "execution_count": 83,
   "metadata": {},
   "outputs": [],
   "source": [
    "#bank['Education'] = bank['Education'].astype('category')\n",
    "#bank['Family'] = bank['Family'].astype('category')"
   ]
  },
  {
   "cell_type": "code",
   "execution_count": 8,
   "metadata": {},
   "outputs": [
    {
     "data": {
      "text/plain": [
       "array([4, 3, 1, ..., 2, 3, 3], dtype=int64)"
      ]
     },
     "execution_count": 8,
     "metadata": {},
     "output_type": "execute_result"
    }
   ],
   "source": [
    "bank['Family'].values\n",
    "bank.dtypes"
   ]
  },
  {
   "cell_type": "code",
   "execution_count": 15,
   "metadata": {},
   "outputs": [],
   "source": [
    "familydummy = pd.get_dummies(bank['Family'], prefix='Family')\n",
    "bank_family = pd.concat([bank, familydummy], axis=1)      \n",
    "bank_family.drop(['Family_4'], inplace=True, axis=1)"
   ]
  },
  {
   "cell_type": "code",
   "execution_count": 18,
   "metadata": {},
   "outputs": [],
   "source": [
    "edudummy =  pd.get_dummies(bank_family['Education'], prefix='Education')\n",
    "bank_edu = pd.concat([bank_family, edudummy], axis=1)      \n",
    "bank_edu.drop(['Education_3'], inplace=True, axis=1)"
   ]
  },
  {
   "cell_type": "code",
   "execution_count": 20,
   "metadata": {},
   "outputs": [
    {
     "data": {
      "text/html": [
       "<div>\n",
       "<style scoped>\n",
       "    .dataframe tbody tr th:only-of-type {\n",
       "        vertical-align: middle;\n",
       "    }\n",
       "\n",
       "    .dataframe tbody tr th {\n",
       "        vertical-align: top;\n",
       "    }\n",
       "\n",
       "    .dataframe thead th {\n",
       "        text-align: right;\n",
       "    }\n",
       "</style>\n",
       "<table border=\"1\" class=\"dataframe\">\n",
       "  <thead>\n",
       "    <tr style=\"text-align: right;\">\n",
       "      <th></th>\n",
       "      <th>ID</th>\n",
       "      <th>Age</th>\n",
       "      <th>Experience</th>\n",
       "      <th>Income</th>\n",
       "      <th>ZIP Code</th>\n",
       "      <th>Family</th>\n",
       "      <th>CCAvg</th>\n",
       "      <th>Education</th>\n",
       "      <th>Mortgage</th>\n",
       "      <th>Personal Loan</th>\n",
       "      <th>...</th>\n",
       "      <th>CD Account</th>\n",
       "      <th>Online</th>\n",
       "      <th>CreditCard</th>\n",
       "      <th>Area</th>\n",
       "      <th>Experience Median</th>\n",
       "      <th>Family_1</th>\n",
       "      <th>Family_2</th>\n",
       "      <th>Family_3</th>\n",
       "      <th>Education_1</th>\n",
       "      <th>Education_2</th>\n",
       "    </tr>\n",
       "  </thead>\n",
       "  <tbody>\n",
       "    <tr>\n",
       "      <th>0</th>\n",
       "      <td>1</td>\n",
       "      <td>25</td>\n",
       "      <td>1.0</td>\n",
       "      <td>49</td>\n",
       "      <td>91107</td>\n",
       "      <td>4</td>\n",
       "      <td>1.6</td>\n",
       "      <td>1</td>\n",
       "      <td>0</td>\n",
       "      <td>0</td>\n",
       "      <td>...</td>\n",
       "      <td>0</td>\n",
       "      <td>0</td>\n",
       "      <td>0</td>\n",
       "      <td>911</td>\n",
       "      <td>1.0</td>\n",
       "      <td>0</td>\n",
       "      <td>0</td>\n",
       "      <td>0</td>\n",
       "      <td>1</td>\n",
       "      <td>0</td>\n",
       "    </tr>\n",
       "    <tr>\n",
       "      <th>1</th>\n",
       "      <td>2</td>\n",
       "      <td>45</td>\n",
       "      <td>19.0</td>\n",
       "      <td>34</td>\n",
       "      <td>90089</td>\n",
       "      <td>3</td>\n",
       "      <td>1.5</td>\n",
       "      <td>1</td>\n",
       "      <td>0</td>\n",
       "      <td>0</td>\n",
       "      <td>...</td>\n",
       "      <td>0</td>\n",
       "      <td>0</td>\n",
       "      <td>0</td>\n",
       "      <td>900</td>\n",
       "      <td>20.0</td>\n",
       "      <td>0</td>\n",
       "      <td>0</td>\n",
       "      <td>1</td>\n",
       "      <td>1</td>\n",
       "      <td>0</td>\n",
       "    </tr>\n",
       "    <tr>\n",
       "      <th>2</th>\n",
       "      <td>3</td>\n",
       "      <td>39</td>\n",
       "      <td>15.0</td>\n",
       "      <td>11</td>\n",
       "      <td>94720</td>\n",
       "      <td>1</td>\n",
       "      <td>1.0</td>\n",
       "      <td>1</td>\n",
       "      <td>0</td>\n",
       "      <td>0</td>\n",
       "      <td>...</td>\n",
       "      <td>0</td>\n",
       "      <td>0</td>\n",
       "      <td>0</td>\n",
       "      <td>947</td>\n",
       "      <td>14.0</td>\n",
       "      <td>1</td>\n",
       "      <td>0</td>\n",
       "      <td>0</td>\n",
       "      <td>1</td>\n",
       "      <td>0</td>\n",
       "    </tr>\n",
       "    <tr>\n",
       "      <th>3</th>\n",
       "      <td>4</td>\n",
       "      <td>35</td>\n",
       "      <td>9.0</td>\n",
       "      <td>100</td>\n",
       "      <td>94112</td>\n",
       "      <td>1</td>\n",
       "      <td>2.7</td>\n",
       "      <td>2</td>\n",
       "      <td>0</td>\n",
       "      <td>0</td>\n",
       "      <td>...</td>\n",
       "      <td>0</td>\n",
       "      <td>0</td>\n",
       "      <td>0</td>\n",
       "      <td>941</td>\n",
       "      <td>10.0</td>\n",
       "      <td>1</td>\n",
       "      <td>0</td>\n",
       "      <td>0</td>\n",
       "      <td>0</td>\n",
       "      <td>1</td>\n",
       "    </tr>\n",
       "    <tr>\n",
       "      <th>4</th>\n",
       "      <td>5</td>\n",
       "      <td>35</td>\n",
       "      <td>8.0</td>\n",
       "      <td>45</td>\n",
       "      <td>91330</td>\n",
       "      <td>4</td>\n",
       "      <td>1.0</td>\n",
       "      <td>2</td>\n",
       "      <td>0</td>\n",
       "      <td>0</td>\n",
       "      <td>...</td>\n",
       "      <td>0</td>\n",
       "      <td>0</td>\n",
       "      <td>1</td>\n",
       "      <td>913</td>\n",
       "      <td>10.0</td>\n",
       "      <td>0</td>\n",
       "      <td>0</td>\n",
       "      <td>0</td>\n",
       "      <td>0</td>\n",
       "      <td>1</td>\n",
       "    </tr>\n",
       "  </tbody>\n",
       "</table>\n",
       "<p>5 rows × 21 columns</p>\n",
       "</div>"
      ],
      "text/plain": [
       "   ID  Age  Experience  Income ZIP Code  Family  CCAvg  Education  Mortgage  \\\n",
       "0   1   25         1.0      49    91107       4    1.6          1         0   \n",
       "1   2   45        19.0      34    90089       3    1.5          1         0   \n",
       "2   3   39        15.0      11    94720       1    1.0          1         0   \n",
       "3   4   35         9.0     100    94112       1    2.7          2         0   \n",
       "4   5   35         8.0      45    91330       4    1.0          2         0   \n",
       "\n",
       "   Personal Loan     ...       CD Account  Online  CreditCard  Area  \\\n",
       "0              0     ...                0       0           0   911   \n",
       "1              0     ...                0       0           0   900   \n",
       "2              0     ...                0       0           0   947   \n",
       "3              0     ...                0       0           0   941   \n",
       "4              0     ...                0       0           1   913   \n",
       "\n",
       "  Experience Median  Family_1  Family_2  Family_3  Education_1  Education_2  \n",
       "0               1.0         0         0         0            1            0  \n",
       "1              20.0         0         0         1            1            0  \n",
       "2              14.0         1         0         0            1            0  \n",
       "3              10.0         1         0         0            0            1  \n",
       "4              10.0         0         0         0            0            1  \n",
       "\n",
       "[5 rows x 21 columns]"
      ]
     },
     "execution_count": 20,
     "metadata": {},
     "output_type": "execute_result"
    }
   ],
   "source": [
    "bank_edu.head()"
   ]
  },
  {
   "cell_type": "code",
   "execution_count": 21,
   "metadata": {},
   "outputs": [],
   "source": [
    "import graphviz \n",
    "from sklearn.metrics import confusion_matrix\n",
    "import itertools\n",
    "from sklearn.model_selection import train_test_split\n",
    "import matplotlib.pyplot as plt\n",
    "from sklearn import tree\n",
    "\n",
    "X_train, X_test, y_train, y_test = train_test_split(bank_edu.iloc[:, 0:12], bank_edu['Personal Loan'], test_size =0.3,random_state=0)"
   ]
  },
  {
   "cell_type": "code",
   "execution_count": 50,
   "metadata": {},
   "outputs": [
    {
     "name": "stdout",
     "output_type": "stream",
     "text": [
      "0.9854285714285714\n",
      "{'criterion': 'entropy', 'max_depth': 4, 'min_samples_leaf': 3, 'min_samples_split': 2}\n"
     ]
    }
   ],
   "source": [
    "from sklearn.tree import DecisionTreeClassifier # A decision tree classifier\n",
    "# GridSearchCV performs an exhaustive search over specified parameter values for an estimator\n",
    "# The parameters of the estimator used to apply these methods are optimized by cross-validated \n",
    "# grid-search over a parameter grid.\n",
    "from sklearn.model_selection import GridSearchCV #http://scikit-learn.org/stable/modules/generated/sklearn.model_selection.GridSearchCV.html\n",
    "from sklearn.linear_model import LogisticRegression \n",
    "from sklearn import neighbors, datasets\n",
    "# Standardize features by removing the mean and scaling to unit variance\n",
    "from sklearn.preprocessing import StandardScaler\n",
    "\n",
    "np.random.seed(42)\n",
    "gs_dt2 = GridSearchCV(estimator=DecisionTreeClassifier(random_state=0),\n",
    "                  param_grid=[{'max_depth': [1, 2, 3, 4, 5, 6, 7, None], 'criterion':['gini','entropy'], \n",
    "                              'min_samples_leaf':[1,2,3,4,5],\n",
    "                              'min_samples_split':[2,3,4,5]}],\n",
    "                  scoring='accuracy',\n",
    "                  cv=10,\n",
    "                  n_jobs=4)\n",
    "\n",
    "gs_dt2 = gs_dt2.fit(X_train,y_train)\n",
    "print(gs_dt2.best_score_)\n",
    "print(gs_dt2.best_params_)\n"
   ]
  },
  {
   "cell_type": "code",
   "execution_count": null,
   "metadata": {},
   "outputs": [],
   "source": []
  },
  {
   "cell_type": "code",
   "execution_count": 45,
   "metadata": {},
   "outputs": [
    {
     "name": "stdout",
     "output_type": "stream",
     "text": [
      "0.9494285714285714\n",
      "{'C': 10, 'penalty': 'l2'}\n"
     ]
    }
   ],
   "source": [
    "gs_lr2 = GridSearchCV(estimator=LogisticRegression(random_state=0),\n",
    "                  param_grid=[{'C': [ 0.00001, 0.0001, 0.001, 0.01, 0.1 ,1 ,10 ,100, 1000, 10000, 100000, 1000000, 10000000],\n",
    "                             'penalty':['l1','l2']}],\n",
    "                  scoring='accuracy',\n",
    "                  cv=10)\n",
    "\n",
    "gs_lr2 = gs_lr2.fit(X_train,y_train)\n",
    "print(gs_lr2.best_score_)\n",
    "print(gs_lr2.best_params_)\n"
   ]
  },
  {
   "cell_type": "code",
   "execution_count": 54,
   "metadata": {},
   "outputs": [
    {
     "name": "stdout",
     "output_type": "stream",
     "text": [
      "0.9525714285714286\n",
      "{'n_neighbors': 5, 'weights': 'distance'}\n",
      "KNeighborsClassifier(algorithm='auto', leaf_size=30, metric='minkowski',\n",
      "           metric_params=None, n_jobs=1, n_neighbors=5, p=2,\n",
      "           weights='distance')\n"
     ]
    }
   ],
   "source": [
    "#Normalize Data\n",
    "sc = StandardScaler()\n",
    "sc.fit(X_train)\n",
    "X_train_std = sc.transform(X_train)\n",
    "X_test_std = sc.transform(X_test)\n",
    "\n",
    "# Choosing k for kNN AND type of distance\n",
    "gs_knn2 = GridSearchCV(estimator=neighbors.KNeighborsClassifier(p=2, \n",
    "                           metric='minkowski'),\n",
    "                  param_grid=[{'n_neighbors': [1,3,5,7,9,11,13,15,17,19,21],\n",
    "                               'weights':['uniform','distance']}],\n",
    "                  scoring='accuracy',\n",
    "                  cv=10,\n",
    "                  n_jobs=4)\n",
    "gs_knn2 = gs_knn2.fit(X_train_std, y_train)          \n",
    "print(gs_knn2.best_score_)\n",
    "print(gs_knn2.best_params_)\n",
    "print(gs_knn2.best_estimator_)"
   ]
  },
  {
   "cell_type": "code",
   "execution_count": 35,
   "metadata": {},
   "outputs": [],
   "source": [
    "clf_gs = tree.DecisionTreeClassifier(criterion = 'entropy',\n",
    "                                     max_depth =4,\n",
    "                                     min_samples_leaf = 3,\n",
    "                                     min_samples_split = 2)\n",
    "                                     \n",
    "clf_lr = LogisticRegression(penalty='l2',C=10)\n",
    "\n",
    "clf_knn =neighbors.KNeighborsClassifier(algorithm='auto', leaf_size=30, metric='minkowski',\n",
    "           metric_params=None, n_jobs=1, n_neighbors=5, p=2,\n",
    "           weights='distance')"
   ]
  },
  {
   "cell_type": "code",
   "execution_count": 55,
   "metadata": {},
   "outputs": [
    {
     "name": "stdout",
     "output_type": "stream",
     "text": [
      "CV gs accuracy: 0.984 +/- 0.005\n",
      "CV lr accuracy: 0.950 +/- 0.007\n",
      "CV knn accuracy: 0.898 +/- 0.016\n"
     ]
    }
   ],
   "source": [
    "from sklearn.model_selection import cross_val_score\n",
    "\n",
    "scores_gs=cross_val_score(clf_gs, X_train,y_train, \n",
    "                         scoring='accuracy', cv=10)\n",
    "print('CV gs accuracy: %.3f +/- %.3f' % (np.mean(scores_gs),\n",
    "                                      np.std(scores_gs)))\n",
    "\n",
    "\n",
    "scores_lr=cross_val_score(clf_lr, X_train,y_train, \n",
    "                         scoring='accuracy', cv=10)\n",
    "print('CV lr accuracy: %.3f +/- %.3f' % (np.mean(scores_lr),\n",
    "                                      np.std(scores_lr)))\n",
    "\n",
    "scores_knn=cross_val_score(clf_knn, X_train,y_train, \n",
    "                         scoring='accuracy', cv=10)\n",
    "print('CV knn accuracy: %.3f +/- %.3f' % (np.mean(scores_knn),\n",
    "                                      np.std(scores_knn)))\n",
    "\n",
    "\n",
    "\n"
   ]
  },
  {
   "cell_type": "code",
   "execution_count": 87,
   "metadata": {},
   "outputs": [
    {
     "name": "stdout",
     "output_type": "stream",
     "text": [
      "      0    1\n",
      "0  1362   10\n",
      "1    16  112\n",
      "Accuracy (out-of-sample): 0.98\n",
      "F1 score (out-of-sample):  0.8959999999999999\n",
      "             precision    recall  f1-score   support\n",
      "\n",
      "          0       0.99      0.99      0.99      1372\n",
      "          1       0.92      0.88      0.90       128\n",
      "\n",
      "avg / total       0.98      0.98      0.98      1500\n",
      "\n"
     ]
    }
   ],
   "source": [
    "y_pred = clf_gs.fit(X_train, y_train).predict(X_test)\n",
    "from sklearn.metrics import accuracy_score, f1_score, classification_report,confusion_matrix\n",
    "Confusion_Matrix = pd.DataFrame(confusion_matrix(y_test,y_pred))\n",
    "print(Confusion_Matrix)\n",
    "from sklearn.metrics import accuracy_score, f1_score, cohen_kappa_score, classification_report\n",
    "# Accuracy\n",
    "print('Accuracy (out-of-sample): %.2f' % accuracy_score(y_test, y_pred))\n",
    "\n",
    "# F1 score\n",
    "print('F1 score (out-of-sample): ', f1_score(y_test, y_pred))\n",
    "print(classification_report(y_test, y_pred))"
   ]
  },
  {
   "cell_type": "code",
   "execution_count": 65,
   "metadata": {
    "scrolled": false
   },
   "outputs": [
    {
     "name": "stdout",
     "output_type": "stream",
     "text": [
      "      1   0\n",
      "1  1353  19\n",
      "0    50  78\n",
      "Accuracy (out-of-sample): 0.95\n",
      "F1 score (out-of-sample):  0.6933333333333334\n",
      "             precision    recall  f1-score   support\n",
      "\n",
      "          0       0.96      0.99      0.98      1372\n",
      "          1       0.80      0.61      0.69       128\n",
      "\n",
      "avg / total       0.95      0.95      0.95      1500\n",
      "\n"
     ]
    }
   ],
   "source": [
    "y_pred = clf_lr.fit(X_train, y_train).predict(X_test)\n",
    "from sklearn.metrics import accuracy_score, f1_score, classification_report,confusion_matrix\n",
    "Confusion_Matrix = pd.DataFrame(confusion_matrix(y_test,y_pred),columns=[\"1\",\"0\"],index=[\"1\",\"0\"])\n",
    "print(Confusion_Matrix)\n",
    "from sklearn.metrics import accuracy_score, f1_score, cohen_kappa_score, classification_report\n",
    "# Accuracy\n",
    "print('Accuracy (out-of-sample): %.2f' % accuracy_score(y_test, y_pred))\n",
    "\n",
    "# F1 score\n",
    "print('F1 score (out-of-sample): ', f1_score(y_test, y_pred))\n",
    "print(classification_report(y_test, y_pred))"
   ]
  },
  {
   "cell_type": "code",
   "execution_count": 88,
   "metadata": {},
   "outputs": [
    {
     "name": "stdout",
     "output_type": "stream",
     "text": [
      "      0   1\n",
      "0  1325  47\n",
      "1    85  43\n",
      "Accuracy (out-of-sample): 0.91\n",
      "F1 score (out-of-sample):  0.39449541284403666\n",
      "             precision    recall  f1-score   support\n",
      "\n",
      "          0       0.94      0.97      0.95      1372\n",
      "          1       0.48      0.34      0.39       128\n",
      "\n",
      "avg / total       0.90      0.91      0.90      1500\n",
      "\n"
     ]
    }
   ],
   "source": [
    "y_pred = clf_knn.fit(X_train, y_train).predict(X_test)\n",
    "from sklearn.metrics import accuracy_score, f1_score, classification_report,confusion_matrix\n",
    "Confusion_Matrix = pd.DataFrame(confusion_matrix(y_test,y_pred))\n",
    "print(Confusion_Matrix)\n",
    "from sklearn.metrics import accuracy_score, f1_score, cohen_kappa_score, classification_report\n",
    "# Accuracy\n",
    "print('Accuracy (out-of-sample): %.2f' % accuracy_score(y_test, y_pred))\n",
    "\n",
    "# F1 score\n",
    "print('F1 score (out-of-sample): ', f1_score(y_test, y_pred))\n",
    "print(classification_report(y_test, y_pred))"
   ]
  },
  {
   "cell_type": "code",
   "execution_count": 61,
   "metadata": {},
   "outputs": [
    {
     "name": "stdout",
     "output_type": "stream",
     "text": [
      "10-fold cross validation:\n",
      "\n",
      "ROC AUC: 0.96 (+/- 0.01) [Logistic regression]\n",
      "ROC AUC: 0.99 (+/- 0.01) [Decision tree]\n",
      "ROC AUC: 0.86 (+/- 0.04) [KNN]\n"
     ]
    },
    {
     "data": {
      "image/png": "[encoded data removed]",
      "text/plain": [
       "<Figure size 432x288 with 1 Axes>"
      ]
     },
     "metadata": {},
     "output_type": "display_data"
    }
   ],
   "source": [
    "import numpy as np\n",
    "from sklearn.linear_model import LogisticRegression\n",
    "from sklearn.tree import DecisionTreeClassifier\n",
    "from sklearn.neighbors import KNeighborsClassifier \n",
    "from sklearn.metrics import roc_curve\n",
    "from sklearn.metrics import auc\n",
    "\n",
    "# Logistic Regression Classifier\n",
    "clf1 = LogisticRegression(penalty='l2', \n",
    "                          C=10,\n",
    "                          random_state=1)\n",
    "\n",
    "# Decision Tree Classifier\n",
    "clf2 = DecisionTreeClassifier(max_depth=4,\n",
    "                              criterion='entropy',\n",
    "                              random_state=0)\n",
    "\n",
    "# kNN Classifier\n",
    "clf3 = KNeighborsClassifier(n_neighbors=5,\n",
    "                            p=2,\n",
    "                            metric='minkowski')\n",
    "\n",
    "# Label the classifiers\n",
    "clf_labels = ['Logistic regression', 'Decision tree', 'KNN']\n",
    "all_clf = [clf1, clf2, clf3]\n",
    "\n",
    "print('10-fold cross validation:\\n')\n",
    "for clf, label in zip([clf1, clf2, clf3], clf_labels): #For all classifiers \n",
    "    scores = cross_val_score(estimator=clf,  #Estimate AUC based on cross validation\n",
    "                             X=X_train,\n",
    "                             y=y_train,\n",
    "                             cv=10,\n",
    "                             scoring='roc_auc')\n",
    "    print(\"ROC AUC: %0.2f (+/- %0.2f) [%s]\" #Print peformance statistics based on cross-validation\n",
    "          % (scores.mean(), scores.std(), label))\n",
    "\n",
    "colors = [ 'orange', 'blue', 'green']      #Colors for visualization\n",
    "linestyles = [':', '--', '-.', '-']        #Line styles for visualization\n",
    "for clf, label, clr, ls in zip(all_clf,\n",
    "               clf_labels, colors, linestyles):\n",
    "\n",
    "    # assuming the label of the positive class is 1 and data is normalized\n",
    "    y_pred = clf.fit(X_train,\n",
    "                     y_train).predict_proba(X_test)[:, 1] # Make predictions based on the classifiers\n",
    "    fpr, tpr, thresholds = roc_curve(y_true=y_test, # Build ROC curve\n",
    "                                     y_score=y_pred)\n",
    "    roc_auc = auc(x=fpr, y=tpr)                # Compute Area Under the Curve (AUC) \n",
    "    plt.plot(fpr, tpr,                         # Plot ROC Curve and create label with AUC values\n",
    "             color=clr,\n",
    "             linestyle=ls,\n",
    "             label='%s (auc = %0.2f)' % (label, roc_auc))\n",
    "\n",
    "plt.legend(loc='lower right')    # Where to place the legend\n",
    "plt.plot([0, 1], [0, 1], # Visualize random classifier\n",
    "         linestyle='--',\n",
    "         color='gray',\n",
    "         linewidth=2)\n",
    "\n",
    "plt.xlim([-0.1, 1.1])   #limits for x axis\n",
    "plt.ylim([-0.1, 1.1])   #limits for y axis\n",
    "plt.grid(alpha=0.5)\n",
    "plt.xlabel('False positive rate (FPR)')\n",
    "plt.ylabel('True positive rate (TPR)')\n",
    "\n",
    "\n",
    "#plt.savefig('ROC_all_classifiers', dpi=300)\n",
    "plt.show()"
   ]
  },
  {
   "cell_type": "code",
   "execution_count": 62,
   "metadata": {},
   "outputs": [
    {
     "ename": "NameError",
     "evalue": "name 'X_imb' is not defined",
     "output_type": "error",
     "traceback": [
      "\u001b[1;31m---------------------------------------------------------------------------\u001b[0m",
      "\u001b[1;31mNameError\u001b[0m                                 Traceback (most recent call last)",
      "\u001b[1;32m<ipython-input-62-2893632fb788>\u001b[0m in \u001b[0;36m<module>\u001b[1;34m()\u001b[0m\n\u001b[0;32m      3\u001b[0m \u001b[1;31m# Number of class 1 samples before\u001b[0m\u001b[1;33m\u001b[0m\u001b[1;33m\u001b[0m\u001b[0m\n\u001b[0;32m      4\u001b[0m \u001b[1;33m\u001b[0m\u001b[0m\n\u001b[1;32m----> 5\u001b[1;33m \u001b[0mprint\u001b[0m\u001b[1;33m(\u001b[0m\u001b[1;34m'Number of class 1 samples before:'\u001b[0m\u001b[1;33m,\u001b[0m \u001b[0mX_imb\u001b[0m\u001b[1;33m[\u001b[0m\u001b[0my_imb\u001b[0m \u001b[1;33m==\u001b[0m \u001b[1;34m'1'\u001b[0m\u001b[1;33m]\u001b[0m\u001b[1;33m.\u001b[0m\u001b[0mshape\u001b[0m\u001b[1;33m[\u001b[0m\u001b[1;36m0\u001b[0m\u001b[1;33m]\u001b[0m\u001b[1;33m)\u001b[0m\u001b[1;33m\u001b[0m\u001b[0m\n\u001b[0m\u001b[0;32m      6\u001b[0m \u001b[1;33m\u001b[0m\u001b[0m\n\u001b[0;32m      7\u001b[0m \u001b[1;31m# Resampling strategy = take the minority class from the imbalanced data set and repeatedly draw samples\u001b[0m\u001b[1;33m\u001b[0m\u001b[1;33m\u001b[0m\u001b[0m\n",
      "\u001b[1;31mNameError\u001b[0m: name 'X_imb' is not defined"
     ]
    }
   ],
   "source": [
    "X_imb = pd.concat([X_train, y_train], axis = 1)\n",
    "X_imb = X_imb.rename(columns={'Personal Loan': 'y_imb'})\n",
    "y_imb = X_imb['y_imb']\n",
    "\n",
    "from sklearn.utils import resample\n",
    "\n",
    "# Number of class 1 samples before\n",
    "\n",
    "print('Number of class 1 samples before:', X_imb[y_imb == '1'].shape[0])\n",
    "\n",
    "# Resampling strategy = take the minority class from the imbalanced data set and repeatedly draw samples\n",
    "# from it until it contains the same number of samples as class label 0\n",
    "\n",
    "X_upsampled, y_upsampled = resample(X_imb[y_imb == '1'], # Indexable data-structures as input\n",
    "                                    y_imb[y_imb == '1'],\n",
    "                                    replace=True, # Implements resampling with replacement.\n",
    "                                    n_samples=X_imb[y_imb == '0'].shape[0], # Number of samples to generate.\n",
    "                                    random_state=0) # The seed of the pseudo random number generator to use when shuffling the data\n",
    "\n",
    "# Number of class 1 samples after oversampling rare class\n",
    "print('Number of class 1 samples after:', X_upsampled.shape[0])"
   ]
  },
  {
   "cell_type": "code",
   "execution_count": 64,
   "metadata": {},
   "outputs": [
    {
     "ename": "NameError",
     "evalue": "name 'X_imb' is not defined",
     "output_type": "error",
     "traceback": [
      "\u001b[1;31m---------------------------------------------------------------------------\u001b[0m",
      "\u001b[1;31mNameError\u001b[0m                                 Traceback (most recent call last)",
      "\u001b[1;32m<ipython-input-64-ffd17f6ef771>\u001b[0m in \u001b[0;36m<module>\u001b[1;34m()\u001b[0m\n\u001b[0;32m      2\u001b[0m \u001b[1;31m# as follows:\u001b[0m\u001b[1;33m\u001b[0m\u001b[1;33m\u001b[0m\u001b[0m\n\u001b[0;32m      3\u001b[0m \u001b[1;33m\u001b[0m\u001b[0m\n\u001b[1;32m----> 4\u001b[1;33m \u001b[0mX_bal\u001b[0m \u001b[1;33m=\u001b[0m \u001b[0mnp\u001b[0m\u001b[1;33m.\u001b[0m\u001b[0mvstack\u001b[0m\u001b[1;33m(\u001b[0m\u001b[1;33m(\u001b[0m\u001b[0mX_imb\u001b[0m\u001b[1;33m[\u001b[0m\u001b[0my_imb\u001b[0m \u001b[1;33m==\u001b[0m \u001b[1;34m'0'\u001b[0m\u001b[1;33m]\u001b[0m\u001b[1;33m,\u001b[0m \u001b[0mX_upsampled\u001b[0m\u001b[1;33m)\u001b[0m\u001b[1;33m)\u001b[0m\u001b[1;33m\u001b[0m\u001b[0m\n\u001b[0m\u001b[0;32m      5\u001b[0m \u001b[0my_bal\u001b[0m \u001b[1;33m=\u001b[0m \u001b[0mnp\u001b[0m\u001b[1;33m.\u001b[0m\u001b[0mhstack\u001b[0m\u001b[1;33m(\u001b[0m\u001b[1;33m(\u001b[0m\u001b[0my_imb\u001b[0m\u001b[1;33m[\u001b[0m\u001b[0my_imb\u001b[0m \u001b[1;33m==\u001b[0m \u001b[1;34m'0'\u001b[0m\u001b[1;33m]\u001b[0m\u001b[1;33m,\u001b[0m \u001b[0my_upsampled\u001b[0m\u001b[1;33m)\u001b[0m\u001b[1;33m)\u001b[0m\u001b[1;33m\u001b[0m\u001b[0m\n\u001b[0;32m      6\u001b[0m \u001b[1;33m\u001b[0m\u001b[0m\n",
      "\u001b[1;31mNameError\u001b[0m: name 'X_imb' is not defined"
     ]
    }
   ],
   "source": [
    "# After resampling, we can stack the original class 0 with the upsampled class 1 subset to obtain a balanced dataset\n",
    "# as follows:\n",
    "\n",
    "X_bal = np.vstack((X_imb[y_imb == '0'], X_upsampled))\n",
    "y_bal = np.hstack((y_imb[y_imb == '0'], y_upsampled))\n",
    "\n",
    "# Consequently if we were to predict the accuracy of the model that always predicts the majority class ~50%\n",
    "y_pred = np.zeros(y_bal.shape[0])\n",
    "np.mean(y_pred == y_bal) * 100"
   ]
  },
  {
   "cell_type": "code",
   "execution_count": null,
   "metadata": {},
   "outputs": [],
   "source": []
  },
  {
   "cell_type": "code",
   "execution_count": null,
   "metadata": {},
   "outputs": [],
   "source": []
  }
 ],
 "metadata": {
  "kernelspec": {
   "display_name": "Python 3",
   "language": "python",
   "name": "python3"
  },
  "language_info": {
   "codemirror_mode": {
    "name": "ipython",
    "version": 3
   },
   "file_extension": ".py",
   "mimetype": "text/x-python",
   "name": "python",
   "nbconvert_exporter": "python",
   "pygments_lexer": "ipython3",
   "version": "3.6.5"
  }
 },
 "nbformat": 4,
 "nbformat_minor": 2
}
